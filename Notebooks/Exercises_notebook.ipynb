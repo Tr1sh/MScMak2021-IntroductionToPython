{
 "cells": [
  {
   "cell_type": "markdown",
   "metadata": {},
   "source": [
    "<small><small><i>\n",
    "Introduction to Python for Bioinformatics - available at https://github.com/GunzIvan28/MScMak2021-IntroductionToPython.\n",
    "</i></small></small>"
   ]
  },
  {
   "cell_type": "markdown",
   "metadata": {},
   "source": [
    "# Strings"
   ]
  },
  {
   "cell_type": "markdown",
   "metadata": {},
   "source": [
    "## Exercise 1\n",
    "1. Given trna='AAGGGCTTAGCTTAATTAAAGTGGCTGATTTGCGTTCAGTTGATGCAGAGTGGGGTTTTGCAGTCCTTA', Calculate the % GC and % AT content in the trna sequence   \n",
    "- A_count=trna.count('A')   \n",
    "- C_count=trna.count('C')   \n",
    "- G_count=trna.count('G')   \n",
    "- T_count=trna.count('T')"
   ]
  },
  {
   "cell_type": "code",
   "execution_count": 8,
   "metadata": {},
   "outputs": [
    {
     "name": "stdout",
     "output_type": "stream",
     "text": [
      "GC_content 43.47826086956522 %\n",
      "AT_content 56.52173913043478 %\n"
     ]
    }
   ],
   "source": [
    "trna='AAGGGCTTAGCTTAATTAAAGTGGCTGATTTGCGTTCAGTTGATGCAGAGTGGGGTTTTGCAGTCCTTA'\n",
    "A_count=trna.count('A')   \n",
    "C_count=trna.count('C')   \n",
    "G_count=trna.count('G')   \n",
    "T_count=trna.count('T')\n",
    "\n",
    "GC_content =(((G_count + C_count)/len(trna))* 100)\n",
    "AT_content = (((A_count+T_count)/len(trna))* 100)\n",
    "print(\"GC_content {} %\".format(GC_content))\n",
    "print(\"AT_content {} %\".format(AT_content))"
   ]
  },
  {
   "cell_type": "markdown",
   "metadata": {},
   "source": [
    "## Exercise 2\n",
    "1. Given the following amino acid sequence (MNKMDLVADVAEKTDLSKAKATEVIDAVFA), find the first, last and the 5th amino acids in the sequence. \n",
    "2. The above amino acid is a bacterial restriction enzyme that recognizes \"TCCGGA\". Find the first restriction site in the following sequence: AAAAATCCCGAGGCGGCTATATAGGGCTCCGGAGGCGTAATATAAAA"
   ]
  },
  {
   "cell_type": "code",
   "execution_count": 17,
   "metadata": {},
   "outputs": [
    {
     "data": {
      "text/plain": "'D'"
     },
     "execution_count": 17,
     "metadata": {},
     "output_type": "execute_result"
    }
   ],
   "source": [
    "Amino_seq = \"MNKMDLVADVAEKTDLSKAKATEVIDAVFA\"\n",
    "Amino_seq[0]\n",
    "Amino_seq[-1]\n",
    "Amino_seq[4]\n"
   ]
  },
  {
   "cell_type": "code",
   "execution_count": 250,
   "metadata": {},
   "outputs": [
    {
     "data": {
      "text/plain": "27"
     },
     "execution_count": 250,
     "metadata": {},
     "output_type": "execute_result"
    }
   ],
   "source": [
    "bac_seq= \"AAAAATCCCGAGGCGGCTATATAGGGCTCCGGAGGCGTAATATAAAA\"\n",
    "bac_seq.find(\"TCCGGA\")\n",
    "#len(bac_seq)\n"
   ]
  },
  {
   "cell_type": "markdown",
   "metadata": {},
   "source": [
    "## Exercise 3\n",
    "Given the DNA sequence CGCCTAAATAGCCTCGCGGAGCCTTATGTCATACTCGTCCT find the k-mer(3-mer) with the highest frequency"
   ]
  },
  {
   "cell_type": "code",
   "execution_count": 16,
   "metadata": {},
   "outputs": [
    {
     "name": "stdout",
     "output_type": "stream",
     "text": [
      "🙏🙏🙏🙏🙏🙏🙏🙏🙏🙏\n",
      "The kmer with the highest frequency is CCT\n"
     ]
    }
   ],
   "source": [
    "\n",
    "def count_kmers(read, k):\n",
    "    print(\"🙏\"*10)\n",
    "    \"\"\"Count kmer occurrences in a given read.\n",
    "\n",
    "    Parameters\n",
    "    ----------\n",
    "    read : string\n",
    "        A single DNA sequence.\n",
    "    k : int\n",
    "        The value of k for which to count kmers.\n",
    "\n",
    "    Returns\n",
    "    -------\n",
    "    counts : dictionary, {'string': int}\n",
    "        A dictionary of counts keyed by their individual kmers (strings\n",
    "        of length k).\n",
    "\n",
    "    Examples\n",
    "    --------\n",
    "    >>> count_kmers(\"GATGAT\", 3)\n",
    "    {'ATG': 1, 'GAT': 2, 'TGA': 1}\n",
    "    \"\"\"\n",
    "    # Start with an empty dictionary\n",
    "    counts = {}\n",
    "    # Calculate how many kmers of length k there are\n",
    "    num_kmers = len(read) - k + 1\n",
    "    # Loop over the kmer start positions\n",
    "    for i in range(num_kmers):\n",
    "        # Slice the string to get the kmer\n",
    "        kmer = read[i:i+k]\n",
    "        # Add the kmer to the dictionary if it's not there\n",
    "        if kmer not in counts:\n",
    "            counts[kmer] = 0\n",
    "        # Increment the count for this kmer\n",
    "        counts[kmer] += 1\n",
    "    # Return the final counts\n",
    "    return counts\n",
    "count_kmers(\"CGCCTAAATAGCCTCGCGGAGCCTTATGTCATACTCGTCCT\",3)\n",
    "print(\"The kmer with the highest frequency is CCT\")"
   ]
  },
  {
   "cell_type": "markdown",
   "metadata": {},
   "source": [
    "# While Loops, for loops, if-else-if, break, functions"
   ]
  },
  {
   "cell_type": "markdown",
   "metadata": {},
   "source": [
    "## Exercise 4\n",
    "\n",
    "1. Create a while loop that starts with x = 0 and increments x until x is equal to 5. Each iteration should print to the console.\n",
    "2. Repeat the previous problem, but the loop will skip printing x = 5 to the console but will print values of x from 6 to 10.\n",
    "3. Create a for loop that prints values from 4 to 10 to the console."
   ]
  },
  {
   "cell_type": "code",
   "execution_count": 43,
   "metadata": {},
   "outputs": [
    {
     "name": "stdout",
     "output_type": "stream",
     "text": [
      "0\n",
      "1\n",
      "2\n",
      "3\n",
      "4\n",
      "5\n"
     ]
    }
   ],
   "source": [
    "x=0\n",
    "while x<6:\n",
    "    print(x)\n",
    "    x += 1"
   ]
  },
  {
   "cell_type": "code",
   "execution_count": 42,
   "metadata": {},
   "outputs": [
    {
     "name": "stdout",
     "output_type": "stream",
     "text": [
      "6\n",
      "7\n",
      "8\n",
      "9\n",
      "10\n"
     ]
    }
   ],
   "source": [
    "x=0\n",
    "while x<11:\n",
    "    if x>5:\n",
    "        print(x)\n",
    "    x += 1\n"
   ]
  },
  {
   "cell_type": "code",
   "execution_count": 44,
   "metadata": {},
   "outputs": [
    {
     "name": "stdout",
     "output_type": "stream",
     "text": [
      "4\n",
      "5\n",
      "6\n",
      "7\n",
      "8\n",
      "9\n",
      "10\n"
     ]
    }
   ],
   "source": [
    "x=0\n",
    "while x<11:\n",
    "    if x>3:\n",
    "        print(x)\n",
    "    x += 1\n"
   ]
  },
  {
   "cell_type": "markdown",
   "metadata": {},
   "source": [
    " ## Exercise 5\n",
    " \n",
    " Write a function `areatriangle(b,h)` to compute the area of a triangle: formula is `area = .5*b*h`. Output should look like: \n",
    " \n",
    " `The area of a triangle of base 3 and height 5 is 7.5`"
   ]
  },
  {
   "cell_type": "code",
   "execution_count": 45,
   "metadata": {},
   "outputs": [
    {
     "name": "stdout",
     "output_type": "stream",
     "text": [
      "The area of a triangle of base 3 and height 5 is 7.5\n"
     ]
    }
   ],
   "source": [
    "def areatriangle(b,h):\n",
    "    area = .5*b*h\n",
    "    return area\n",
    "\n",
    "t_area= areatriangle(3,5)\n",
    "print(\"The area of a triangle of base 3 and height 5 is {}\".format(t_area))"
   ]
  },
  {
   "cell_type": "markdown",
   "metadata": {},
   "source": [
    "## Exercise 6\n",
    "Write a function `celsius_to_fahrenheit(temp)` to convert Celsius to Fahrentheit temperature. The formula is `(9/5) times temp plus 32`. Print the output in the form: \n",
    " \n",
    "`The Celsius temperature 50.0 is equivalent to 122.0 degrees Fahrenheit.`"
   ]
  },
  {
   "cell_type": "code",
   "execution_count": 46,
   "metadata": {},
   "outputs": [
    {
     "name": "stdout",
     "output_type": "stream",
     "text": [
      "The Celsius temperature 50.0 is equivalent to 122.0 degrees Fahrenheit.\n"
     ]
    }
   ],
   "source": [
    "def celsius_to_fahrenheit(temp):\n",
    "    tmp = (9/5) * temp + 32\n",
    "    return tmp\n",
    "tmfr = celsius_to_fahrenheit(50.0)\n",
    "print(\"The Celsius temperature 50.0 is equivalent to {} degrees Fahrenheit.\".format(tmfr))\n"
   ]
  },
  {
   "cell_type": "markdown",
   "metadata": {},
   "source": [
    "## Exercise 7\n",
    "Create a function that prompts the user for their first and last name. The function written should include the city and state.\n",
    "That is, ask two more questions to get the city and the state you live in. Print where you are from on a new line. Put the customary comma between\n",
    "city and state. Your run should look like the following: \n",
    "\n",
    "\n",
    "```Enter your first name: Ivan\n",
    "\n",
    "Enter your last name: Lloyd\n",
    "\n",
    "Enter the city you live in: Kampala\n",
    "\n",
    "Enter the state you live in: Central\n",
    "\n",
    "\n",
    "\n",
    "Your name is: Ivan Lloyd\n",
    "\n",
    "You live in:  Kampala, Central\n"
   ]
  },
  {
   "cell_type": "code",
   "execution_count": 10,
   "metadata": {},
   "outputs": [
    {
     "name": "stdout",
     "output_type": "stream",
     "text": [
      "💁👌😍💁👌😍💁👌😍💁👌😍💁👌😍\n",
      "Enter your last name: Lioyd\n",
      "Enter the city you live in:Kampala\n",
      "Enter the state you live in: Central\n"
     ]
    }
   ],
   "source": [
    "def  func():\n",
    "    name = str(input(\"Enter your last name:\\n\"))\n",
    "    city = str(input(\"Enter the city you live in:\\n\"))\n",
    "    state = str(input(\"Enter the state you live in:\\n\"))\n",
    "    print(\"👌😍\"*5)\n",
    "    print(\"Enter your last name: {}\".format(name))\n",
    "    print(\"Enter the city you live in:{}\".format(city))\n",
    "    print(\"Enter the state you live in: {}\".format(state))\n",
    "\n",
    "func()"
   ]
  },
  {
   "cell_type": "markdown",
   "metadata": {},
   "source": [
    "## Exercise 8\n",
    "Write a function `count_down()` that starts at 10 and counts down to rocket launch. It's output should be:  \n",
    "`10 9 8 7 6 5 4 3 2 1 BLASTOFF!`  \n",
    "\n",
    "You can make all the numbers on the same line or different lines. Use a while loop."
   ]
  },
  {
   "cell_type": "code",
   "execution_count": 12,
   "metadata": {},
   "outputs": [
    {
     "name": "stdout",
     "output_type": "stream",
     "text": [
      "👌👌👌👌👌👌👌👌👌👌\n",
      "10 9 8 7 6 5 4 3 2 1 BLASTOFF!\n"
     ]
    }
   ],
   "source": [
    "def count_down():\n",
    "    x=10\n",
    "    print(\"👌\"*10)\n",
    "    while x>0:\n",
    "        print(x, end=\" \")\n",
    "        x -= 1\n",
    "\n",
    "count_down()\n",
    "print(\"BLASTOFF!\")"
   ]
  },
  {
   "cell_type": "code",
   "execution_count": 7,
   "metadata": {},
   "outputs": [
    {
     "name": "stdout",
     "output_type": "stream",
     "text": [
      "10 9 8 7 6 5 4 3 2 1 BLASTOFF!\n"
     ]
    }
   ],
   "source": [
    "from time import sleep\n",
    "def count_down():\n",
    "    x=10\n",
    "    while x>0:\n",
    "        print(x, end=\" \")\n",
    "        sleep(1)\n",
    "        x -= 1\n",
    "\n",
    "count_down()\n",
    "print(\"BLASTOFF!\")"
   ]
  },
  {
   "cell_type": "markdown",
   "metadata": {},
   "source": [
    "## Exercise 9\n",
    "Write a function `sum_prod(x,y)` that prints the sum and product of the numbers x and y on separate lines, the sum printing first."
   ]
  },
  {
   "cell_type": "code",
   "execution_count": 15,
   "metadata": {},
   "outputs": [
    {
     "name": "stdout",
     "output_type": "stream",
     "text": [
      "😍😍😍😍😍\n",
      "The sum is 5 👌\n",
      "\n",
      "The product is 6👌\n",
      "\n"
     ]
    }
   ],
   "source": [
    "def sum_prod(x,y):\n",
    "    print(\"😍\"*5)\n",
    "    sum = x + y\n",
    "    prod = x*y\n",
    "    print(\"The sum is {} 👌\\n\".format(sum))\n",
    "    print(\"The product is {}👌\\n\".format(prod))\n",
    "\n",
    "sum_prod(2,3)"
   ]
  },
  {
   "cell_type": "markdown",
   "metadata": {},
   "source": [
    "## Exercise 10\n",
    "Write a function `steps(n)` that adds up the numbers 1 through n and prints out the result. You should use either a 'while' loop or a 'for' loop. Be sure that you check your answer on several numbers n.  Be careful that your loop steps through all the numbers from 1 through and including n.\n"
   ]
  },
  {
   "cell_type": "code",
   "execution_count": 5,
   "metadata": {},
   "outputs": [
    {
     "name": "stdout",
     "output_type": "stream",
     "text": [
      "The output is 21\n"
     ]
    }
   ],
   "source": [
    "def steps(n):\n",
    "    total =0\n",
    "    for x in range(1,n+1):\n",
    "        total += x\n",
    " \n",
    "    print(\"The output is {}\".format(total))\n",
    "\n",
    "steps(6)\n",
    "\n",
    "         "
   ]
  },
  {
   "cell_type": "markdown",
   "metadata": {},
   "source": [
    "## Exercise 11\n",
    "Write a function `conv(miles)` to convert miles to feet. There are 5280 feet in each mile. Make the print out a statement as follows:  \n",
    "`There are 10560 feet in 2 miles.`  Except for the numbers, this statement should be exactly as written.\n"
   ]
  },
  {
   "cell_type": "code",
   "execution_count": 98,
   "metadata": {},
   "outputs": [
    {
     "name": "stdout",
     "output_type": "stream",
     "text": [
      "There are 10560 feet in 2 miles\n"
     ]
    }
   ],
   "source": [
    "def conv(miles):\n",
    "    f2m = miles * 5280\n",
    "    return f2m\n",
    "print(\"There are {} feet in 2 miles\".format(conv(2)))"
   ]
  },
  {
   "cell_type": "markdown",
   "metadata": {},
   "source": [
    "## Exercise 12\n",
    "Write a function `drinks(age)`. This function should use an `if-elif-else` statement to print out:  \n",
    "\n",
    "`Have a glass of milk.` for anyone under 7; \n",
    "\n",
    "`Have a coke.` for anyone under 21, and \n",
    "\n",
    "`Have a martini.` for anyone 21 or older.  \n",
    "\n",
    "Tip: Be careful about the ages 7 (a seven year old is not under 7) and 21. Also be careful to make the phrases exactly as shown.\n",
    "Test the runs (3 of them). Note that the test for the function output will use different numbers:\n",
    "\n",
    "`drinks(5)\n",
    "Have a glass of milk.`\n",
    "\n",
    "`drinks(10)\n",
    "Have a coke.`\n",
    "\n",
    "`drinks(25)\n",
    "Have a martini.`\n"
   ]
  },
  {
   "cell_type": "code",
   "execution_count": 106,
   "metadata": {},
   "outputs": [
    {
     "name": "stdout",
     "output_type": "stream",
     "text": [
      "Have a glass of milk \n",
      " Have a coke\n",
      " Have a martini\n"
     ]
    }
   ],
   "source": [
    "def drinks(age):\n",
    "    if(age < 7):\n",
    "        val = \"Have a glass of milk\"\n",
    "    elif(age<21):\n",
    "        val =\"Have a coke\"\n",
    "    else:\n",
    "        val = \"Have a martini\"\n",
    "    return val\n",
    "\n",
    "print(\"{} \\n {}\\n {}\".format(drinks(5),drinks(10),drinks(25)))\n",
    "#print(drinks(7))\n",
    "#print(drinks(10))\n",
    "#print(25)\n"
   ]
  },
  {
   "cell_type": "markdown",
   "metadata": {},
   "source": [
    "## Exercise 13\n",
    "Write a function `odd_nums()` that prints the odd numbers from 1 through 100. Make all of these numbers appear on the same line (actually, when the line fills up it will wrap around, but ignore that.). In order to do this, your print statement should have `end=\" \"` in it. For example, `print(name,end=\" \")` will keep the next print statement from starting a new line. Be sure there is a space between these quotes or your numbers will run together. Use a single space as that is what the testing program expects. Use a 'for' loop and the `range()` function.  \n",
    "\n",
    "Things to be careful of that might go wrong: \n",
    "You print too many numbers, you put too much or too little space between them, you print each number on its own line, you print even numbers or all numbers, your first number isn't 1 or your last number isn't 99.  \n",
    "Always check first and last outputs when you write a loop.\n",
    "\n",
    "Test run (I've inserted a newline here to cause wrapping in the editor):\n",
    "\n",
    "```odd_nums()\n",
    "1 3 5 7 9 11 13 15 17 19 21 23 25 27 29 31 33 35 37 39 41 43 45 47 49 51 53 55 \n",
    "57 59 61 63 65 67 69 71 73 75 77 79 81 83 85 87 89 91 93 95 97 99"
   ]
  },
  {
   "cell_type": "code",
   "execution_count": 245,
   "metadata": {},
   "outputs": [
    {
     "name": "stdout",
     "output_type": "stream",
     "text": [
      "1 3 5 7 9 11 13 15 17 19 21 23 25 27 29 31 33 35 37 39 41 43 45 47 49 51 53 55 57 59 61 63 65 67 69 71 73 75 77 79 81 83 85 87 89 91 93 95 97 99 "
     ]
    }
   ],
   "source": [
    "def odd_numbers():\n",
    "    for x in range(1,101):\n",
    "        if x%2==1:\n",
    "            print(x,end=\" \")\n",
    "odd_numbers()   \n",
    "    "
   ]
  },
  {
   "cell_type": "markdown",
   "metadata": {},
   "source": [
    "## Exercise 14\n",
    "Write a function `trapez()` that computes the area of a trapezoid. Here is the formula: `A = (1/2)(b1+b2)h`. In the formula b1 is the length of one of the bases, b2 the other. The height is h and the area is A. Basically, this takes the average of the two bases times the height. For a rectangle b1 = b2, so this reduces to b1*h. This means that you can do a pretty good test of the correctness of your function using a rectangle (that way you can compute the answer in your head). Use input statements to ask for the bases and the height.\n",
    "Convert these input strings to real numbers using `float()`. Print the output nicely EXACTLY like mine below.\n",
    "\n",
    "Tip: Be careful that your output on the test case below is exactly as shown so that the testing function judges your output correctly.  The testing function does not look at your input statements, so you don't have to use my input prompts if you don't want to. However, testing function will enter the three inputs in the order shown. See the other test run below.\n",
    "\n",
    "trapez()\n",
    "\n",
    "Enter the length of one of the bases: 3\n",
    "\n",
    "Enter the length of the other base: 4\n",
    "\n",
    "Enter the height: 8\n",
    "\n",
    "`The area of a trapezoid with bases 3.0 and 4.0 and height 8.0 is 28.0`\n",
    "\n",
    "\n",
    "Another test run. In grading, expect different input numbers to be used.\n",
    "\n",
    "trapez()\n",
    "\n",
    "Enter the length of one of the bases: 10\n",
    "\n",
    "Enter the length of the other base: 11\n",
    "\n",
    "Enter the height: 12\n",
    "\n",
    "`The area of a trapezoid with bases 10.0 and 11.0 and height 12.0 is 126.0`\n"
   ]
  },
  {
   "cell_type": "code",
   "execution_count": 238,
   "metadata": {},
   "outputs": [
    {
     "name": "stdout",
     "output_type": "stream",
     "text": [
      "The area of a trapezoid with bases 3.0 and 4.0 and height 8.0 is 28.0\n"
     ]
    }
   ],
   "source": [
    "def trapez():\n",
    "    b1 = float(input(\"Enter length of one of the bases: \\n\"))\n",
    "    b2 = float(input(\"Enter lengths of the other base: \\n\"))\n",
    "    h = float(input(\"Enter the height: \\n\"))\n",
    "    area = 0.5 *(b1+b2) * h\n",
    "    print(\"The area of a trapezoid with bases {} and {} and height {} is {}\"\\\n",
    "        .format(b1,b2,h,area))\n",
    "\n",
    "trapez()\n",
    "    "
   ]
  },
  {
   "cell_type": "markdown",
   "metadata": {},
   "source": [
    "## Exercise 15\n",
    "Write a function diner_waitress() that asks for you order. First start an empty list, call it order. Then use a `while loop and an input()` statement to gather the order. Continue in the while loop until the customer says `that's all`. One way to end the loop is to use `break` to break out of the loop when `that's all` is entered. Recall that you can add to a list by using the list's .append() method; suppose that your list is called order. You are going to have to input one food at a time and append it to the order list. Then print out the order. Here is my run:  \n",
    "\n",
    "diner_waitress()\n",
    "\n",
    "```Hello, I'll be your waitress. What will you have?\n",
    "\n",
    "menu item: eggs\n",
    "\n",
    "menu item: bacon\n",
    "\n",
    "menu item: toast\n",
    "\n",
    "menu item: jelly\n",
    "\n",
    "menu item: that's all\n",
    "You've ordered:\n",
    "['eggs', 'bacon', 'toast', 'jelly']\n"
   ]
  },
  {
   "cell_type": "code",
   "execution_count": 3,
   "metadata": {},
   "outputs": [
    {
     "data": {
      "text/plain": "['eggs', 'bacon', 'toast', 'jelly']"
     },
     "execution_count": 3,
     "metadata": {},
     "output_type": "execute_result"
    }
   ],
   "source": [
    "def diner_waitress():\n",
    "    lis = []\n",
    "    txt = True\n",
    "    while txt is True:\n",
    "        item = input(\"Enter menu item: \\n\")\n",
    "        if item == \"that's all\":\n",
    "            txt = False\n",
    "        else:\n",
    "            lis.append(item)\n",
    "            continue\n",
    "        \n",
    "        return lis\n",
    "\n",
    "\n",
    "diner_waitress()"
   ]
  },
  {
   "cell_type": "markdown",
   "metadata": {},
   "source": [
    "# Lists, randoms, seeds, floats"
   ]
  },
  {
   "cell_type": "markdown",
   "metadata": {},
   "source": [
    "## Exercise 16\n",
    "Write a function `runner()` that sets a variable lis = list(range(20,30)) and does all of the following, each on a separate line: \n",
    "\n",
    "(a) print the element of lis with the index 3  \n",
    "(b) print lis itself  \n",
    "(c) write a 'for' loop that prints out every element of lis. Recall that len() will give you the length of such a data collection if you need that. Use `end=\" \"` to put one space between the elements of the list lis.  Allow the extra space at the end of the list to stand, don't make a special case of it.\n",
    "    \n",
    "Test run:\n",
    "\n",
    "runner()\n",
    "\n",
    "``` 23\n",
    "[20, 21, 22, 23, 24, 25, 26, 27, 28, 29]\n",
    "20 21 22 23 24 25 26 27 28 29 "
   ]
  },
  {
   "cell_type": "code",
   "execution_count": 214,
   "metadata": {},
   "outputs": [
    {
     "name": "stdout",
     "output_type": "stream",
     "text": [
      "23\n",
      "[20, 21, 22, 23, 24, 25, 26, 27, 28, 29]\n",
      "20  21  22  23  24  25  26  27  28  29  "
     ]
    }
   ],
   "source": [
    "def runner():\n",
    "    lis = list(range(20,30))\n",
    "    print(lis[3])\n",
    "    print(lis)\n",
    "    for x in lis:\n",
    "        print(x,end=\"  \")\n",
    "runner()\n"
   ]
  },
  {
   "cell_type": "markdown",
   "metadata": {},
   "source": [
    "## Exercise 17\n",
    "Let's do a small simulation. Suppose that you rolled a die repeatedly. Each time that you roll the die you get a integer from 1 to 6, the number of pips on the die. Use `random.randint(a,b)` to simulate rolling a die 10 times and printout the 10 outcomes. The function random.`randint(a,b)` will generate an integer (whole number) between the integers a and b inclusive. Remember each outcome is 1, 2, 3, 4, 5, or 6, so make sure that you can get all of these outcomes and none other. Print the list, one item to a line so that there are 10 lines as in the example run.  Make sure that it has 10 items and they are all in the range 1 through 6.  Here is one of my runs. In the problem below I ask you to set the seed to 171 for the benefit of the reproducibility. In this example, that wasn't done and so your numbers will be different.  Note that the seed must be set BEFORE randint is used.\n",
    "\n",
    "\n",
    "dice()\n",
    "\n",
    "```4\n",
    "5\n",
    "3\n",
    "1\n",
    "4\n",
    "3\n",
    "5\n",
    "1\n",
    "6\n",
    "3\n"
   ]
  },
  {
   "cell_type": "code",
   "execution_count": 2,
   "metadata": {},
   "outputs": [
    {
     "name": "stdout",
     "output_type": "stream",
     "text": [
      "5\n",
      "4\n",
      "4\n",
      "1\n",
      "5\n",
      "4\n",
      "6\n",
      "2\n",
      "4\n",
      "3\n"
     ]
    }
   ],
   "source": [
    "import random\n",
    "def dice():\n",
    "    random.seed(171)\n",
    "    for i in range(0,10):\n",
    "        print(random.randint(1, 6))\n",
    "\n",
    "dice()\n",
    "    \n",
    "    "
   ]
  },
  {
   "cell_type": "markdown",
   "metadata": {},
   "source": [
    "## Exercise 18\n",
    "Heron's formula for computing the area of a triangle with sides a, b, and c is as follows. Let `s = .5(a + b + c)` --- that is, 1/2 of the perimeter of the triangle. Then the area is the square root of `s(s-a)(s-b)(s-c)`. You can compute the square root of x by `x**.5` (raise x to the 1/2 power). Use an input statement to get the length of the sides. Don't forget to convert this input to a real number using float(). Adjust your output to be just like what you see below. Here is a run of my program:\n",
    "\n",
    "heron()\n",
    "\n",
    "```Enter length of side one: 9\n",
    "\n",
    "Enter length of side two: 12\n",
    "\n",
    "Enter length of side three: 15\n",
    "\n",
    "Area of a triangle with sides 9.0 12.0 15.0 is 54.0"
   ]
  },
  {
   "cell_type": "code",
   "execution_count": 136,
   "metadata": {},
   "outputs": [
    {
     "name": "stdout",
     "output_type": "stream",
     "text": [
      "Area of a triangle with sides 9.0 12.0 15.0 is 54.0\n"
     ]
    }
   ],
   "source": [
    "\n",
    "\n",
    "def comp_area():\n",
    "    a = float(input(\"Enter length of side one: \\n\"))\n",
    "    b = float(input(\"Enter length of side two: \\n\"))\n",
    "    c = float(input(\"Enter length of side three: \\n\"))\n",
    "\n",
    "    t_peri = 0.5 * (a + b + c)\n",
    "    t_area = (t_peri * ((t_peri-a)*(t_peri -b) * (t_peri - c)))**0.5\n",
    "    #return t_area\n",
    "    print(\"Area of a triangle with sides {} {} {} is {}\".format(a,b,c,t_area))\n",
    "comp_area()\n",
    "\n",
    "    "
   ]
  },
  {
   "cell_type": "code",
   "execution_count": null,
   "metadata": {},
   "outputs": [],
   "source": []
  },
  {
   "cell_type": "markdown",
   "metadata": {},
   "source": [
    "## Exercise 19\n",
    "The following list gives the hourly temperature during a 24 hour day. Write a function, that will take such a list and compute 3 things: average temperature, high (maximum temperature), and low (minimum temperature) for the day.  I will test with a different set of temperatures, so don't pick out the low or the high and code it into your program. This should work for other hourly_temp lists as well. This can be done by looping (iterating) through the list. I suggest you not write it all at once. You might write a function that computes just one of these, say average, then improve it to handle another, say maximum, etc. Sample run using the list hourly_temp. \n",
    "\n",
    "Note that the testing function will use a different hourly list.  Be sure that you function works on this list and test it on at least one other list of your own construction. Note also, that the list the grader uses may not have the same number of items as this one.\n",
    "\n",
    "\n",
    "hourly_temp  = [40.0, 39.0, 37.0, 34.0, 33.0, 34.0, 36.0, 37.0, 38.0, 39.0, \\\n",
    "               40.0, 41.0, 44.0, 45.0, 47.0, 48.0, 45.0, 42.0, 39.0, 37.0, \\\n",
    "               36.0, 35.0, 33.0, 32.0]\n",
    "\n",
    "\n",
    "weather(hourly_temp)\n",
    "```\n",
    "Average: 38.791666666666664\n",
    "High: 48.0\n",
    "Low: 32.0\n"
   ]
  },
  {
   "cell_type": "code",
   "execution_count": 133,
   "metadata": {},
   "outputs": [
    {
     "name": "stdout",
     "output_type": "stream",
     "text": [
      "Average: 38.791666666666664\n",
      " High: 48.0\n",
      " Low: 32.0 \n"
     ]
    }
   ],
   "source": [
    "import numpy as np\n",
    "\n",
    "hourly_temp  = [40.0, 39.0, 37.0, 34.0, 33.0, 34.0, 36.0, 37.0, 38.0, 39.0,\\\n",
    "         40.0, 41.0, 44.0, 45.0, 47.0, 48.0, 45.0, 42.0, 39.0, 37.0,\\\n",
    "         36.0, 35.0, 33.0, 32.0]\n",
    "def avg_min_max(x):\n",
    "    \n",
    "    print(\"Average: {}\\n High: {}\\n Low: {} \".format(np.average(x),max(x),min(x)))\n",
    "\n",
    "\n",
    "avg_min_max(hourly_temp)"
   ]
  },
  {
   "cell_type": "markdown",
   "metadata": {},
   "source": [
    "## Exercise 20\n",
    "Write a function that will convert a date from one format to another. Specifically, `06/10/2016` should convert to `June 17, 2016`.  Actually, you will input the 6, the 17, and the 2016 as separate integers (numbers) and the function will assemble and print the date as June 17, 2016.  I suggest that you create a tuple months = (\"January\", \"February\", \"March\", ...) to store the names of the months.  Then it is easy to access the name February as months[1] and so on.\n",
    "\n",
    "Here is printout of my run.\n",
    "\n",
    "calen(6,17,2016)\n",
    "\n",
    "`June 17, 2016`\n"
   ]
  },
  {
   "cell_type": "code",
   "execution_count": 109,
   "metadata": {},
   "outputs": [
    {
     "data": {
      "text/plain": "'06'"
     },
     "execution_count": 109,
     "metadata": {},
     "output_type": "execute_result"
    }
   ],
   "source": [
    "stm  = \"06/10/2016\"\n",
    "xx = stm.split(\"/\")\n",
    "xx[0]"
   ]
  },
  {
   "cell_type": "code",
   "execution_count": 129,
   "metadata": {},
   "outputs": [
    {
     "name": "stdout",
     "output_type": "stream",
     "text": [
      "December 17,2016\n",
      "June 17,2016\n"
     ]
    }
   ],
   "source": [
    "def calen(date_val):\n",
    "    date_old = date_val.split(\"/\")\n",
    "    m = int(date_old[0] ) -1\n",
    "    d = date_old[1]\n",
    "    y = date_old[2]\n",
    "    months = (\"January\",\"Febuary\",\"March\",\"April\",\"May\",\"June\",\"July\",\"August\",\"September\",\"October\",\"November\",\"December\")\n",
    "    date_new = str(months[m] + \" \" + d +\",\"+ y)\n",
    "    return date_new\n",
    "\n",
    "print(calen(\"12/17/2016\"))\n",
    "print(calen(\"6/17/2016\"))"
   ]
  },
  {
   "cell_type": "markdown",
   "metadata": {},
   "source": [
    "# Dictionaries, turples, sets"
   ]
  },
  {
   "cell_type": "code",
   "execution_count": null,
   "metadata": {},
   "outputs": [],
   "source": []
  },
  {
   "cell_type": "markdown",
   "metadata": {},
   "source": [
    "# Reading, writing, and manipulation of text files (Empasis on csv files)"
   ]
  },
  {
   "cell_type": "code",
   "execution_count": null,
   "metadata": {},
   "outputs": [],
   "source": [
    "rt numpy as np\n",
    "def"
   ]
  },
  {
   "cell_type": "markdown",
   "metadata": {},
   "source": [
    "# Running stand-alone scripts or programs"
   ]
  },
  {
   "cell_type": "code",
   "execution_count": null,
   "metadata": {},
   "outputs": [],
   "source": []
  }
 ],
 "metadata": {
  "kernelspec": {
   "display_name": "Python 3.8.5 64-bit ('anaconda3': virtualenv)",
   "name": "python385jvsc74a57bd08006839468baa8b4aaf24751e15b7e19152492e5a770703664bc42faa7cb06c8"
  },
  "language_info": {
   "name": "python",
   "version": ""
  },
  "orig_nbformat": 3
 },
 "nbformat": 4,
 "nbformat_minor": 2
}